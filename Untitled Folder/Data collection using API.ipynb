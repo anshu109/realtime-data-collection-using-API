{
 "cells": [
  {
   "cell_type": "code",
   "execution_count": 6,
   "id": "5df4c49b",
   "metadata": {},
   "outputs": [
    {
     "name": "stdout",
     "output_type": "stream",
     "text": [
      "Collecting package metadata (current_repodata.json): done\n",
      "Solving environment: done\n",
      "\n",
      "# All requested packages already installed.\n",
      "\n",
      "\n",
      "Note: you may need to restart the kernel to use updated packages.\n"
     ]
    }
   ],
   "source": [
    "conda install -c conda-forge jupyterthemes"
   ]
  },
  {
   "cell_type": "code",
   "execution_count": 7,
   "id": "df661b61",
   "metadata": {},
   "outputs": [],
   "source": [
    "!jt -t oceans16 -tf merriserif -tfs 14 -nf ptsans -nfs 14\n"
   ]
  },
  {
   "cell_type": "code",
   "execution_count": 8,
   "id": "980cdf91",
   "metadata": {},
   "outputs": [],
   "source": [
    "!jt -t oceans16"
   ]
  },
  {
   "cell_type": "markdown",
   "id": "9bc094e8",
   "metadata": {},
   "source": [
    "# Reading Real time Stock Data using APIs"
   ]
  },
  {
   "cell_type": "markdown",
   "id": "57e4b3ae",
   "metadata": {},
   "source": [
    "\n",
    "To work on any realtime data first requirement is to colect the data. To collect the real time data we use a library called pandas_datareader.  If pandas_datareader is not installed in your system then install it using\n",
    "\n",
    "\"pip install pandas_datareader\" command"
   ]
  },
  {
   "cell_type": "code",
   "execution_count": 1,
   "id": "e5901b12",
   "metadata": {},
   "outputs": [
    {
     "name": "stdout",
     "output_type": "stream",
     "text": [
      "Requirement already satisfied: pandas_datareader in /Users/musubimanagement/opt/anaconda3/lib/python3.8/site-packages (0.10.0)\n",
      "Requirement already satisfied: requests>=2.19.0 in /Users/musubimanagement/opt/anaconda3/lib/python3.8/site-packages (from pandas_datareader) (2.26.0)\n",
      "Requirement already satisfied: pandas>=0.23 in /Users/musubimanagement/opt/anaconda3/lib/python3.8/site-packages (from pandas_datareader) (1.2.4)\n",
      "Requirement already satisfied: lxml in /Users/musubimanagement/opt/anaconda3/lib/python3.8/site-packages (from pandas_datareader) (4.6.3)\n",
      "Requirement already satisfied: python-dateutil>=2.7.3 in /Users/musubimanagement/opt/anaconda3/lib/python3.8/site-packages (from pandas>=0.23->pandas_datareader) (2.8.2)\n",
      "Requirement already satisfied: pytz>=2017.3 in /Users/musubimanagement/opt/anaconda3/lib/python3.8/site-packages (from pandas>=0.23->pandas_datareader) (2021.3)\n",
      "Requirement already satisfied: numpy>=1.16.5 in /Users/musubimanagement/opt/anaconda3/lib/python3.8/site-packages (from pandas>=0.23->pandas_datareader) (1.20.1)\n",
      "Requirement already satisfied: six>=1.5 in /Users/musubimanagement/opt/anaconda3/lib/python3.8/site-packages (from python-dateutil>=2.7.3->pandas>=0.23->pandas_datareader) (1.16.0)\n",
      "Requirement already satisfied: urllib3<1.27,>=1.21.1 in /Users/musubimanagement/opt/anaconda3/lib/python3.8/site-packages (from requests>=2.19.0->pandas_datareader) (1.26.7)\n",
      "Requirement already satisfied: idna<4,>=2.5 in /Users/musubimanagement/opt/anaconda3/lib/python3.8/site-packages (from requests>=2.19.0->pandas_datareader) (3.2)\n",
      "Requirement already satisfied: charset-normalizer~=2.0.0 in /Users/musubimanagement/opt/anaconda3/lib/python3.8/site-packages (from requests>=2.19.0->pandas_datareader) (2.0.4)\n",
      "Requirement already satisfied: certifi>=2017.4.17 in /Users/musubimanagement/opt/anaconda3/lib/python3.8/site-packages (from requests>=2.19.0->pandas_datareader) (2021.10.8)\n",
      "Note: you may need to restart the kernel to use updated packages.\n"
     ]
    }
   ],
   "source": [
    "pip install pandas_datareader"
   ]
  },
  {
   "cell_type": "markdown",
   "id": "3e74436d",
   "metadata": {},
   "source": [
    "## Data collection using APIs\n",
    "\n",
    "Once pandas_datareader is installed you can download real time data of stocks using different APIs.\n",
    "Just visit pandas_datareader documentation and it will show you a list of different APIs from which you can access the stock data."
   ]
  },
  {
   "cell_type": "markdown",
   "id": "7365e6f4",
   "metadata": {},
   "source": [
    "![APIs](\"pdreader.png\")"
   ]
  },
  {
   "cell_type": "markdown",
   "id": "470ef234",
   "metadata": {},
   "source": [
    "For This Excercise I am using Tiingo API"
   ]
  },
  {
   "cell_type": "markdown",
   "id": "cd2253f7",
   "metadata": {},
   "source": [
    "To use Tiingo API, visit the tiingo API website and signup "
   ]
  },
  {
   "cell_type": "markdown",
   "id": "de5d40e2",
   "metadata": {},
   "source": [
    "Once signed up login to Tiingo website and copy your API keys. "
   ]
  },
  {
   "cell_type": "markdown",
   "id": "9516417a",
   "metadata": {},
   "source": [
    "Now we have all the prerequisites, all we have to do is to collect data that we want. In this excercis I am going to download stock data of \"Accenture\"\n"
   ]
  },
  {
   "cell_type": "code",
   "execution_count": 19,
   "id": "2eff4297",
   "metadata": {},
   "outputs": [],
   "source": [
    "import pandas as pd\n",
    "import pandas_datareader as pdr"
   ]
  },
  {
   "cell_type": "code",
   "execution_count": 22,
   "id": "8419a1b7",
   "metadata": {},
   "outputs": [],
   "source": [
    "# Once Dependencies are imported we have to send request to API "
   ]
  },
  {
   "cell_type": "code",
   "execution_count": 20,
   "id": "f7c0c5bb",
   "metadata": {},
   "outputs": [
    {
     "name": "stdout",
     "output_type": "stream",
     "text": [
      "{'message': 'You successfully sent a request'}\n"
     ]
    }
   ],
   "source": [
    "import requests\n",
    "\n",
    "headers = {\n",
    "        'Content-Type': 'application/json'\n",
    "        }\n",
    "requestResponse = requests.get(\"https://api.tiingo.com/api/test?token=49670d218e72e7fdb57ad7c4342df7837a773089\",\n",
    "                                    headers=headers)\n",
    "print(requestResponse.json())"
   ]
  },
  {
   "cell_type": "code",
   "execution_count": 23,
   "id": "f7d045e6",
   "metadata": {},
   "outputs": [],
   "source": [
    "key=\"49670d218e72e7fdb57ad7c4342df7837a773089\""
   ]
  },
  {
   "cell_type": "code",
   "execution_count": null,
   "id": "bdf9899d",
   "metadata": {},
   "outputs": [],
   "source": [
    "# Save the API key and now download the data using API Key"
   ]
  },
  {
   "cell_type": "code",
   "execution_count": 28,
   "id": "196034bf",
   "metadata": {},
   "outputs": [],
   "source": [
    "data=pdr.get_data_tiingo('ACN',api_key=key)"
   ]
  },
  {
   "cell_type": "code",
   "execution_count": 26,
   "id": "53ef7aae",
   "metadata": {},
   "outputs": [],
   "source": [
    "# Once data is downloaded , convert that data into csv file"
   ]
  },
  {
   "cell_type": "code",
   "execution_count": 29,
   "id": "81fae2d3",
   "metadata": {},
   "outputs": [],
   "source": [
    "data.to_csv('ACN.csv')"
   ]
  },
  {
   "cell_type": "code",
   "execution_count": 30,
   "id": "3702315b",
   "metadata": {},
   "outputs": [
    {
     "data": {
      "text/html": [
       "<div>\n",
       "<style scoped>\n",
       "    .dataframe tbody tr th:only-of-type {\n",
       "        vertical-align: middle;\n",
       "    }\n",
       "\n",
       "    .dataframe tbody tr th {\n",
       "        vertical-align: top;\n",
       "    }\n",
       "\n",
       "    .dataframe thead th {\n",
       "        text-align: right;\n",
       "    }\n",
       "</style>\n",
       "<table border=\"1\" class=\"dataframe\">\n",
       "  <thead>\n",
       "    <tr style=\"text-align: right;\">\n",
       "      <th></th>\n",
       "      <th></th>\n",
       "      <th>close</th>\n",
       "      <th>high</th>\n",
       "      <th>low</th>\n",
       "      <th>open</th>\n",
       "      <th>volume</th>\n",
       "      <th>adjClose</th>\n",
       "      <th>adjHigh</th>\n",
       "      <th>adjLow</th>\n",
       "      <th>adjOpen</th>\n",
       "      <th>adjVolume</th>\n",
       "      <th>divCash</th>\n",
       "      <th>splitFactor</th>\n",
       "    </tr>\n",
       "    <tr>\n",
       "      <th>symbol</th>\n",
       "      <th>date</th>\n",
       "      <th></th>\n",
       "      <th></th>\n",
       "      <th></th>\n",
       "      <th></th>\n",
       "      <th></th>\n",
       "      <th></th>\n",
       "      <th></th>\n",
       "      <th></th>\n",
       "      <th></th>\n",
       "      <th></th>\n",
       "      <th></th>\n",
       "      <th></th>\n",
       "    </tr>\n",
       "  </thead>\n",
       "  <tbody>\n",
       "    <tr>\n",
       "      <th rowspan=\"11\" valign=\"top\">ACN</th>\n",
       "      <th>2016-12-12 00:00:00+00:00</th>\n",
       "      <td>123.61</td>\n",
       "      <td>123.79</td>\n",
       "      <td>122.600</td>\n",
       "      <td>122.86</td>\n",
       "      <td>1608712</td>\n",
       "      <td>114.239363</td>\n",
       "      <td>114.405718</td>\n",
       "      <td>113.305930</td>\n",
       "      <td>113.546220</td>\n",
       "      <td>1608712</td>\n",
       "      <td>0.0</td>\n",
       "      <td>1.0</td>\n",
       "    </tr>\n",
       "    <tr>\n",
       "      <th>2016-12-13 00:00:00+00:00</th>\n",
       "      <td>125.40</td>\n",
       "      <td>125.72</td>\n",
       "      <td>123.680</td>\n",
       "      <td>123.80</td>\n",
       "      <td>2333210</td>\n",
       "      <td>115.893667</td>\n",
       "      <td>116.189408</td>\n",
       "      <td>114.304057</td>\n",
       "      <td>114.414960</td>\n",
       "      <td>2333210</td>\n",
       "      <td>0.0</td>\n",
       "      <td>1.0</td>\n",
       "    </tr>\n",
       "    <tr>\n",
       "      <th>2016-12-14 00:00:00+00:00</th>\n",
       "      <td>123.65</td>\n",
       "      <td>125.65</td>\n",
       "      <td>123.430</td>\n",
       "      <td>125.25</td>\n",
       "      <td>2041315</td>\n",
       "      <td>114.276331</td>\n",
       "      <td>116.124715</td>\n",
       "      <td>114.073009</td>\n",
       "      <td>115.755038</td>\n",
       "      <td>2041315</td>\n",
       "      <td>0.0</td>\n",
       "      <td>1.0</td>\n",
       "    </tr>\n",
       "    <tr>\n",
       "      <th>2016-12-15 00:00:00+00:00</th>\n",
       "      <td>124.55</td>\n",
       "      <td>125.28</td>\n",
       "      <td>123.260</td>\n",
       "      <td>123.45</td>\n",
       "      <td>1761439</td>\n",
       "      <td>115.108104</td>\n",
       "      <td>115.782764</td>\n",
       "      <td>113.915896</td>\n",
       "      <td>114.091493</td>\n",
       "      <td>1761439</td>\n",
       "      <td>0.0</td>\n",
       "      <td>1.0</td>\n",
       "    </tr>\n",
       "    <tr>\n",
       "      <th>2016-12-16 00:00:00+00:00</th>\n",
       "      <td>123.00</td>\n",
       "      <td>125.16</td>\n",
       "      <td>122.440</td>\n",
       "      <td>124.58</td>\n",
       "      <td>4513962</td>\n",
       "      <td>113.675606</td>\n",
       "      <td>115.671861</td>\n",
       "      <td>113.158059</td>\n",
       "      <td>115.135830</td>\n",
       "      <td>4513962</td>\n",
       "      <td>0.0</td>\n",
       "      <td>1.0</td>\n",
       "    </tr>\n",
       "    <tr>\n",
       "      <th>...</th>\n",
       "      <td>...</td>\n",
       "      <td>...</td>\n",
       "      <td>...</td>\n",
       "      <td>...</td>\n",
       "      <td>...</td>\n",
       "      <td>...</td>\n",
       "      <td>...</td>\n",
       "      <td>...</td>\n",
       "      <td>...</td>\n",
       "      <td>...</td>\n",
       "      <td>...</td>\n",
       "      <td>...</td>\n",
       "    </tr>\n",
       "    <tr>\n",
       "      <th>2021-12-02 00:00:00+00:00</th>\n",
       "      <td>365.30</td>\n",
       "      <td>368.89</td>\n",
       "      <td>359.710</td>\n",
       "      <td>359.71</td>\n",
       "      <td>3183137</td>\n",
       "      <td>365.300000</td>\n",
       "      <td>368.890000</td>\n",
       "      <td>359.710000</td>\n",
       "      <td>359.710000</td>\n",
       "      <td>3183137</td>\n",
       "      <td>0.0</td>\n",
       "      <td>1.0</td>\n",
       "    </tr>\n",
       "    <tr>\n",
       "      <th>2021-12-03 00:00:00+00:00</th>\n",
       "      <td>361.42</td>\n",
       "      <td>370.76</td>\n",
       "      <td>357.340</td>\n",
       "      <td>369.41</td>\n",
       "      <td>2331948</td>\n",
       "      <td>361.420000</td>\n",
       "      <td>370.760000</td>\n",
       "      <td>357.340000</td>\n",
       "      <td>369.410000</td>\n",
       "      <td>2331948</td>\n",
       "      <td>0.0</td>\n",
       "      <td>1.0</td>\n",
       "    </tr>\n",
       "    <tr>\n",
       "      <th>2021-12-06 00:00:00+00:00</th>\n",
       "      <td>362.23</td>\n",
       "      <td>365.40</td>\n",
       "      <td>358.090</td>\n",
       "      <td>361.99</td>\n",
       "      <td>2100218</td>\n",
       "      <td>362.230000</td>\n",
       "      <td>365.400000</td>\n",
       "      <td>358.090000</td>\n",
       "      <td>361.990000</td>\n",
       "      <td>2100218</td>\n",
       "      <td>0.0</td>\n",
       "      <td>1.0</td>\n",
       "    </tr>\n",
       "    <tr>\n",
       "      <th>2021-12-07 00:00:00+00:00</th>\n",
       "      <td>371.34</td>\n",
       "      <td>373.14</td>\n",
       "      <td>365.975</td>\n",
       "      <td>370.00</td>\n",
       "      <td>1943846</td>\n",
       "      <td>371.340000</td>\n",
       "      <td>373.140000</td>\n",
       "      <td>365.975000</td>\n",
       "      <td>370.000000</td>\n",
       "      <td>1943846</td>\n",
       "      <td>0.0</td>\n",
       "      <td>1.0</td>\n",
       "    </tr>\n",
       "    <tr>\n",
       "      <th>2021-12-08 00:00:00+00:00</th>\n",
       "      <td>374.53</td>\n",
       "      <td>374.86</td>\n",
       "      <td>369.650</td>\n",
       "      <td>371.94</td>\n",
       "      <td>2270970</td>\n",
       "      <td>374.530000</td>\n",
       "      <td>374.860000</td>\n",
       "      <td>369.650000</td>\n",
       "      <td>371.940000</td>\n",
       "      <td>2270970</td>\n",
       "      <td>0.0</td>\n",
       "      <td>1.0</td>\n",
       "    </tr>\n",
       "  </tbody>\n",
       "</table>\n",
       "<p>1257 rows × 12 columns</p>\n",
       "</div>"
      ],
      "text/plain": [
       "                                   close    high      low    open   volume  \\\n",
       "symbol date                                                                  \n",
       "ACN    2016-12-12 00:00:00+00:00  123.61  123.79  122.600  122.86  1608712   \n",
       "       2016-12-13 00:00:00+00:00  125.40  125.72  123.680  123.80  2333210   \n",
       "       2016-12-14 00:00:00+00:00  123.65  125.65  123.430  125.25  2041315   \n",
       "       2016-12-15 00:00:00+00:00  124.55  125.28  123.260  123.45  1761439   \n",
       "       2016-12-16 00:00:00+00:00  123.00  125.16  122.440  124.58  4513962   \n",
       "...                                  ...     ...      ...     ...      ...   \n",
       "       2021-12-02 00:00:00+00:00  365.30  368.89  359.710  359.71  3183137   \n",
       "       2021-12-03 00:00:00+00:00  361.42  370.76  357.340  369.41  2331948   \n",
       "       2021-12-06 00:00:00+00:00  362.23  365.40  358.090  361.99  2100218   \n",
       "       2021-12-07 00:00:00+00:00  371.34  373.14  365.975  370.00  1943846   \n",
       "       2021-12-08 00:00:00+00:00  374.53  374.86  369.650  371.94  2270970   \n",
       "\n",
       "                                    adjClose     adjHigh      adjLow  \\\n",
       "symbol date                                                            \n",
       "ACN    2016-12-12 00:00:00+00:00  114.239363  114.405718  113.305930   \n",
       "       2016-12-13 00:00:00+00:00  115.893667  116.189408  114.304057   \n",
       "       2016-12-14 00:00:00+00:00  114.276331  116.124715  114.073009   \n",
       "       2016-12-15 00:00:00+00:00  115.108104  115.782764  113.915896   \n",
       "       2016-12-16 00:00:00+00:00  113.675606  115.671861  113.158059   \n",
       "...                                      ...         ...         ...   \n",
       "       2021-12-02 00:00:00+00:00  365.300000  368.890000  359.710000   \n",
       "       2021-12-03 00:00:00+00:00  361.420000  370.760000  357.340000   \n",
       "       2021-12-06 00:00:00+00:00  362.230000  365.400000  358.090000   \n",
       "       2021-12-07 00:00:00+00:00  371.340000  373.140000  365.975000   \n",
       "       2021-12-08 00:00:00+00:00  374.530000  374.860000  369.650000   \n",
       "\n",
       "                                     adjOpen  adjVolume  divCash  splitFactor  \n",
       "symbol date                                                                    \n",
       "ACN    2016-12-12 00:00:00+00:00  113.546220    1608712      0.0          1.0  \n",
       "       2016-12-13 00:00:00+00:00  114.414960    2333210      0.0          1.0  \n",
       "       2016-12-14 00:00:00+00:00  115.755038    2041315      0.0          1.0  \n",
       "       2016-12-15 00:00:00+00:00  114.091493    1761439      0.0          1.0  \n",
       "       2016-12-16 00:00:00+00:00  115.135830    4513962      0.0          1.0  \n",
       "...                                      ...        ...      ...          ...  \n",
       "       2021-12-02 00:00:00+00:00  359.710000    3183137      0.0          1.0  \n",
       "       2021-12-03 00:00:00+00:00  369.410000    2331948      0.0          1.0  \n",
       "       2021-12-06 00:00:00+00:00  361.990000    2100218      0.0          1.0  \n",
       "       2021-12-07 00:00:00+00:00  370.000000    1943846      0.0          1.0  \n",
       "       2021-12-08 00:00:00+00:00  371.940000    2270970      0.0          1.0  \n",
       "\n",
       "[1257 rows x 12 columns]"
      ]
     },
     "execution_count": 30,
     "metadata": {},
     "output_type": "execute_result"
    }
   ],
   "source": [
    "data"
   ]
  },
  {
   "cell_type": "code",
   "execution_count": null,
   "id": "61996329",
   "metadata": {},
   "outputs": [],
   "source": [
    "Thats it we just downloaded the real time data of accenture stock"
   ]
  }
 ],
 "metadata": {
  "kernelspec": {
   "display_name": "Python 3",
   "language": "python",
   "name": "python3"
  },
  "language_info": {
   "codemirror_mode": {
    "name": "ipython",
    "version": 3
   },
   "file_extension": ".py",
   "mimetype": "text/x-python",
   "name": "python",
   "nbconvert_exporter": "python",
   "pygments_lexer": "ipython3",
   "version": "3.8.8"
  }
 },
 "nbformat": 4,
 "nbformat_minor": 5
}
